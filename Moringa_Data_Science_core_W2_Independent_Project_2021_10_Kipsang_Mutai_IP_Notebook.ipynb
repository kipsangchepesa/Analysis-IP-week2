{
  "nbformat": 4,
  "nbformat_minor": 0,
  "metadata": {
    "colab": {
      "name": "Moringa_Data_Science_core_W2_Independent_Project_2021_10_Kipsang_Mutai_IP_Notebook.ipynb",
      "provenance": [],
      "authorship_tag": "ABX9TyPyiqIjGZne7slPbfcTUcl3",
      "include_colab_link": true
    },
    "kernelspec": {
      "name": "python3",
      "display_name": "Python 3"
    },
    "language_info": {
      "name": "python"
    }
  },
  "cells": [
    {
      "cell_type": "markdown",
      "metadata": {
        "id": "view-in-github",
        "colab_type": "text"
      },
      "source": [
        "<a href=\"https://colab.research.google.com/github/kipsangchepesa/Analysis-IP-week2/blob/main/Moringa_Data_Science_core_W2_Independent_Project_2021_10_Kipsang_Mutai_IP_Notebook.ipynb\" target=\"_parent\"><img src=\"https://colab.research.google.com/assets/colab-badge.svg\" alt=\"Open In Colab\"/></a>"
      ]
    },
    {
      "cell_type": "code",
      "metadata": {
        "id": "lH7FdOQ9apho"
      },
      "source": [
        "# Importing the needed libraries.\n",
        "import pandas as pd \n",
        "import numpy as np \n",
        "import matplotlib.pyplot as plt\n",
        "import seaborn as sns"
      ],
      "execution_count": 1,
      "outputs": []
    }
  ]
}